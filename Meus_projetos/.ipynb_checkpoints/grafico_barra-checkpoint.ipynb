{
 "cells": [
  {
   "cell_type": "code",
   "execution_count": 4,
   "metadata": {},
   "outputs": [],
   "source": [
    "from matplotlib import pyplot as plt\n",
    "from numpy import*\n",
    "from matplotlib.pylab import rcParams\n",
    "rcParams['figure.figsize'] = 10, 6 # Define as dimensões dos gráficos"
   ]
  },
  {
   "cell_type": "code",
   "execution_count": 5,
   "metadata": {},
   "outputs": [],
   "source": [
    "def legenda_automatica(grafico):\n",
    "    \"\"\" Adiciona a legenda acima da coluna do gráfico de acordo com a altura desta \"\"\"\n",
    "    for i in grafico:\n",
    "        altura = i.get_height()\n",
    "        plt.annotate(f'{altura}', xy=(i.get_x() + i.get_width()/2, altura), xytext=(0, 2), textcoords=\"offset points\", ha=\"center\")"
   ]
  },
  {
   "cell_type": "code",
   "execution_count": 3,
   "metadata": {},
   "outputs": [],
   "source": [
    "legenda = [\"Aluno1\", \"Aluno2\", \"Aluno3\", \"Aluno4\", \"Aluno5\"]\n",
    "notas_1 = [20, 35, 34, 30, 21]\n",
    "notas_2 = [22, 25, 32, 34, 12]\n",
    "\n",
    "y = arange(len(legenda))\n",
    "altura = 0.3\n",
    "shift = (largura/2)\n",
    "grafico_1 = plt.barh(y - shift, notas_1, height=altura, label=\"Notas P1\", color=\"purple\")\n",
    "grafico_2 = plt.barh(y + shift, notas_2, height=altura, label=\"Notas P2\", color=\"black\")\n",
    "plt.xlabel(\"Pontos\")\n",
    "plt.title(\"Pontuação por aluno\")\n",
    "plt.yticks(y, legenda)\n",
    "plt.legend()\n",
    "legenda_automatica(grafico_1)\n",
    "legenda_automatica(grafico_2)\n",
    "plt.show()"
   ]
  }
 ],
 "metadata": {
  "kernelspec": {
   "display_name": "Python 3",
   "language": "python",
   "name": "python3"
  },
  "language_info": {
   "codemirror_mode": {
    "name": "ipython",
    "version": 3
   },
   "file_extension": ".py",
   "mimetype": "text/x-python",
   "name": "python",
   "nbconvert_exporter": "python",
   "pygments_lexer": "ipython3",
   "version": "3.8.5"
  }
 },
 "nbformat": 4,
 "nbformat_minor": 4
}
